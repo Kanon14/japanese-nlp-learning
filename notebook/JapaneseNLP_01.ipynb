{
  "nbformat": 4,
  "nbformat_minor": 0,
  "metadata": {
    "colab": {
      "provenance": []
    },
    "kernelspec": {
      "name": "python3",
      "display_name": "Python 3"
    },
    "language_info": {
      "name": "python"
    }
  },
  "cells": [
    {
      "cell_type": "code",
      "source": [
        "# MeCabとUnidic（辞書）インストール\n",
        "!pip install mecab-python3\n",
        "!pip install unidic-lite"
      ],
      "metadata": {
        "colab": {
          "base_uri": "https://localhost:8080/"
        },
        "id": "OJy3m_cTEQCG",
        "outputId": "8752c935-e580-4661-ab28-17fc31bbcfc6"
      },
      "execution_count": 2,
      "outputs": [
        {
          "output_type": "stream",
          "name": "stdout",
          "text": [
            "Collecting mecab-python3\n",
            "  Downloading mecab_python3-1.0.9-cp310-cp310-manylinux_2_17_x86_64.manylinux2014_x86_64.whl (581 kB)\n",
            "\u001b[?25l     \u001b[90m━━━━━━━━━━━━━━━━━━━━━━━━━━━━━━━━━━━━━━━━\u001b[0m \u001b[32m0.0/581.7 kB\u001b[0m \u001b[31m?\u001b[0m eta \u001b[36m-:--:--\u001b[0m\r\u001b[2K     \u001b[91m━━━━━━━━━━━━━━━━━━━━━━━━━━\u001b[0m\u001b[90m╺\u001b[0m\u001b[90m━━━━━━━━━━━━━\u001b[0m \u001b[32m378.9/581.7 kB\u001b[0m \u001b[31m11.2 MB/s\u001b[0m eta \u001b[36m0:00:01\u001b[0m\r\u001b[2K     \u001b[90m━━━━━━━━━━━━━━━━━━━━━━━━━━━━━━━━━━━━━━━━\u001b[0m \u001b[32m581.7/581.7 kB\u001b[0m \u001b[31m11.3 MB/s\u001b[0m eta \u001b[36m0:00:00\u001b[0m\n",
            "\u001b[?25hInstalling collected packages: mecab-python3\n",
            "Successfully installed mecab-python3-1.0.9\n",
            "Collecting unidic-lite\n",
            "  Downloading unidic-lite-1.0.8.tar.gz (47.4 MB)\n",
            "\u001b[2K     \u001b[90m━━━━━━━━━━━━━━━━━━━━━━━━━━━━━━━━━━━━━━━━\u001b[0m \u001b[32m47.4/47.4 MB\u001b[0m \u001b[31m11.0 MB/s\u001b[0m eta \u001b[36m0:00:00\u001b[0m\n",
            "\u001b[?25h  Preparing metadata (setup.py) ... \u001b[?25l\u001b[?25hdone\n",
            "Building wheels for collected packages: unidic-lite\n",
            "  Building wheel for unidic-lite (setup.py) ... \u001b[?25l\u001b[?25hdone\n",
            "  Created wheel for unidic-lite: filename=unidic_lite-1.0.8-py3-none-any.whl size=47658818 sha256=5ec5d58d63060588be609dc862c1cafff84fd2084ad710058c6582a8fe36d2c2\n",
            "  Stored in directory: /root/.cache/pip/wheels/89/e8/68/f9ac36b8cc6c8b3c96888cd57434abed96595d444f42243853\n",
            "Successfully built unidic-lite\n",
            "Installing collected packages: unidic-lite\n",
            "Successfully installed unidic-lite-1.0.8\n"
          ]
        }
      ]
    },
    {
      "cell_type": "code",
      "source": [
        "# MeCabインポート\n",
        "import MeCab"
      ],
      "metadata": {
        "id": "7NsMTCb2Fu7y"
      },
      "execution_count": 9,
      "outputs": []
    },
    {
      "cell_type": "code",
      "source": [
        "# MeCabの使い方\n",
        "t = MeCab.Tagger()\n",
        "result = t.parse('今は夜11時です。')\n",
        "print(result)"
      ],
      "metadata": {
        "colab": {
          "base_uri": "https://localhost:8080/"
        },
        "id": "tXvwAsjYHUuM",
        "outputId": "44425f92-ad4d-4f44-fd6f-0ba0f29bced2"
      },
      "execution_count": 15,
      "outputs": [
        {
          "output_type": "stream",
          "name": "stdout",
          "text": [
            "今\tイマ\tイマ\t今\t名詞-普通名詞-副詞可能\t\t\t1\n",
            "は\tワ\tハ\tは\t助詞-係助詞\t\t\t\n",
            "夜\tヨル\tヨル\t夜\t名詞-普通名詞-副詞可能\t\t\t1\n",
            "11\t11\t11\t11\t名詞-数詞\t\t\t0\n",
            "時\tジ\tジ\t時\t名詞-普通名詞-助数詞可能\t\t\t1\n",
            "です\tデス\tデス\tです\t助動詞\t助動詞-デス\t終止形-一般\t\n",
            "。\t\t\t。\t補助記号-句点\t\t\t\n",
            "EOS\n",
            "\n"
          ]
        }
      ]
    },
    {
      "cell_type": "markdown",
      "source": [
        "＾上のresult：文章を分割した結果と品詞などの情報。"
      ],
      "metadata": {
        "id": "Yr3K-73FIgLM"
      }
    },
    {
      "cell_type": "code",
      "source": [
        "# Split into token\n",
        "t = MeCab.Tagger('-O wakati') # 分かち書き\n",
        "result = t.parse('今年は令和３年です！')\n",
        "print(result.split())"
      ],
      "metadata": {
        "colab": {
          "base_uri": "https://localhost:8080/"
        },
        "id": "nYniMKE9Fxip",
        "outputId": "c503854d-fcf5-4396-ec4c-a5449f6e3ecc"
      },
      "execution_count": 18,
      "outputs": [
        {
          "output_type": "stream",
          "name": "stdout",
          "text": [
            "['今年', 'は', '令和', '３', '年', 'です', '！']\n"
          ]
        }
      ]
    },
    {
      "cell_type": "code",
      "source": [
        "# 特定の品詞だけ\n",
        "t = MeCab.Tagger()\n",
        "node = t.parseToNode('私は大学生です！') # nodeは分割した語の情報\n",
        "while node:\n",
        "  f = node.feature\n",
        "  p = f.split(',')\n",
        "  if p[0] == '名詞':\n",
        "    print(node.surface)\n",
        "  node = node.next"
      ],
      "metadata": {
        "colab": {
          "base_uri": "https://localhost:8080/"
        },
        "id": "qotKFUtfElxp",
        "outputId": "1d3fa94d-ca36-4975-e6c5-775a8bf0cb4d"
      },
      "execution_count": 21,
      "outputs": [
        {
          "output_type": "stream",
          "name": "stdout",
          "text": [
            "大学\n"
          ]
        }
      ]
    },
    {
      "cell_type": "markdown",
      "source": [
        "* `node.surface`: 表面文字列\n",
        "* `node.feature`: 品詞や活用系など\n",
        "* `node.next`: 次のノード（最後はNone）"
      ],
      "metadata": {
        "id": "wjaLilGMJyPB"
      }
    },
    {
      "cell_type": "code",
      "source": [
        "t = MeCab.Tagger()\n",
        "node = t.parseToNode('私はペンを持っています')\n",
        "while node:\n",
        "  f = node.feature\n",
        "  p = f.split(',')\n",
        "  if p[0] == '名詞':\n",
        "    print(node.surface)\n",
        "  node = node.next"
      ],
      "metadata": {
        "colab": {
          "base_uri": "https://localhost:8080/"
        },
        "id": "qnLjERvbKdY3",
        "outputId": "20fdc2a2-0442-4567-e6f3-f7dfd7905b4f"
      },
      "execution_count": 26,
      "outputs": [
        {
          "output_type": "stream",
          "name": "stdout",
          "text": [
            "ペン\n"
          ]
        }
      ]
    },
    {
      "cell_type": "code",
      "source": [
        "t = MeCab.Tagger()\n",
        "node = t.parseToNode('私はペンを持っています')\n",
        "while node:\n",
        "  print(node.feature)\n",
        "  node = node.next"
      ],
      "metadata": {
        "colab": {
          "base_uri": "https://localhost:8080/"
        },
        "id": "IFOLcJaZLiCA",
        "outputId": "8026e158-f535-46c1-8b66-62915236c8bd"
      },
      "execution_count": 27,
      "outputs": [
        {
          "output_type": "stream",
          "name": "stdout",
          "text": [
            "BOS/EOS,*,*,*,*,*,*,*,*,*,*,*,*,*,*,*,*,*,*,*,*,*,*,*,*,*\n",
            "代名詞,*,*,*,*,*,ワタクシ,私-代名詞,私,ワタクシ,私,ワタクシ,和,*,*,*,*,ワタクシ,ワタクシ,ワタクシ,ワタクシ,*,*,0,*,*\n",
            "助詞,係助詞,*,*,*,*,ハ,は,は,ワ,は,ワ,和,*,*,*,*,ハ,ハ,ハ,ハ,*,*,*,\"動詞%F2@0,名詞%F1,形容詞%F2@-1\",*\n",
            "名詞,普通名詞,一般,*,*,*,ペン,ペン-pen,ペン,ペン,ペン,ペン,外,*,*,*,*,ペン,ペン,ペン,ペン,*,*,1,C4,*\n",
            "助詞,格助詞,*,*,*,*,ヲ,を,を,オ,を,オ,和,*,*,*,*,ヲ,ヲ,ヲ,ヲ,*,*,*,\"動詞%F2@0,名詞%F1,形容詞%F2@-1\",*\n",
            "動詞,一般,*,*,五段-タ行,連用形-促音便,モツ,持つ,持っ,モッ,持つ,モツ,和,*,*,*,*,モッ,モツ,モッ,モツ,*,*,1,C1,*\n",
            "助詞,接続助詞,*,*,*,*,テ,て,て,テ,て,テ,和,*,*,*,*,テ,テ,テ,テ,*,*,*,\"動詞%F1,形容詞%F2@-1\",*\n",
            "動詞,非自立可能,*,*,上一段-ア行,連用形-一般,イル,居る,い,イ,いる,イル,和,*,*,*,*,イ,イル,イ,イル,*,*,0,C4,*\n",
            "助動詞,*,*,*,助動詞-マス,終止形-一般,マス,ます,ます,マス,ます,マス,和,*,*,*,*,マス,マス,マス,マス,*,*,*,動詞%F4@1,*\n",
            "BOS/EOS,*,*,*,*,*,*,*,*,*,*,*,*,*,*,*,*,*,*,*,*,*,*,*,*,*\n"
          ]
        }
      ]
    }
  ]
}